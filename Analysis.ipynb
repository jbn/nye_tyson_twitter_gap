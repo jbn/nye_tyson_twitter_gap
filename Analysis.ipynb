{
 "cells": [
  {
   "cell_type": "markdown",
   "metadata": {},
   "source": [
    "See the writeup: [Partisanship, Nerd-love, and Race](https://medium.com/@generativist/partisanship-nerd-love-and-race-2aed018f4a16)"
   ]
  },
  {
   "cell_type": "code",
   "execution_count": null,
   "metadata": {
    "collapsed": false
   },
   "outputs": [],
   "source": [
    "from __future__ import division\n",
    "from __future__ import print_function\n",
    "\n",
    "\n",
    "import json\n",
    "import os\n",
    "import matplotlib.pyplot as plt\n",
    "import numpy as np\n",
    "import scipy.stats as stats\n",
    "import seaborn as sns\n",
    "import sys\n",
    "import pandas as pd\n",
    "\n",
    "from IPython.display import HTML\n",
    "\n",
    "\n",
    "%matplotlib inline"
   ]
  },
  {
   "cell_type": "markdown",
   "metadata": {},
   "source": [
    "Code and Data\n",
    "===\n",
    "\n",
    "I collected the follower id data via the [Twitter API](https://dev.twitter.com/overview/documentation) on 2016-03-06. However, Twitter really doesn't like it when you share their data (just ask [SNAP](https://snap.stanford.edu/data/twitter7.html)). Since I've been building a lot of Twitter stuff lately, I'd like to stay on its good side. But, in the name of replication, I wanted to share everything necessary to run this study. Consequently, I anonymized the IDs. Basically, the relationships are intact, but -- for most of them -- you can't infer identity without downloading a lot of public data from the API.\n",
    "\n",
    "I can't imagine Twitter balking at this, but..."
   ]
  },
  {
   "cell_type": "code",
   "execution_count": null,
   "metadata": {
    "collapsed": false
   },
   "outputs": [],
   "source": [
    "DATA_DIR = os.path.join(os.curdir, \"data\")\n",
    "FOLLOWER_IDS_DIR = os.path.join(DATA_DIR, \"follower_ids\")\n",
    "df = pd.read_csv(os.path.join(DATA_DIR, \"screen_names.csv\"))\n",
    "\n",
    "\n",
    "SCIENTISTS = [\"billnye\", \"neiltyson\"]\n",
    "PROMINENT_BLM = [\"deray\", \"aliciagarza\", \"osope\", \"opalayo\", \n",
    "                 \"shaunking\", \"rissaoftheway\", \"nettaaaaaaaa\",\n",
    "                 \"nvlevy\"]\n",
    "POLITICIANS = list(df['Screen_Name'])\n",
    "SCREEN_NAMES_BY_PARTY = df.groupby(df['Party'])['Screen_Name'].apply(set).to_dict()\n",
    "LEADERS = set(df['Screen_Name'][df['Is_Leader']])\n",
    "\n",
    "\n",
    "def build_followers():\n",
    "    followers = {}\n",
    "    for screen_name in SCIENTISTS + POLITICIANS + PROMINENT_BLM:\n",
    "        file_path = os.path.join(FOLLOWER_IDS_DIR, screen_name + \".ids.json\")\n",
    "        with open(file_path) as fp:\n",
    "            followers[screen_name] = set(json.load(fp))\n",
    "    return followers\n",
    "\n",
    "\n",
    "FOLLOWERS = build_followers()\n",
    "\n",
    "\n",
    "def p_h_given_x(h, x):\n",
    "    return len(h & x) / len(x)\n",
    "\n",
    "\n",
    "def build_party_followers():\n",
    "    party_followers = {'R': set(), 'D': set()}\n",
    "    for party, screen_names in SCREEN_NAMES_BY_PARTY.items():\n",
    "        for screen_name in screen_names:\n",
    "            party_followers[party].update(FOLLOWERS[screen_name])\n",
    "    return party_followers\n",
    "\n",
    "\n",
    "PARTY_FOLLOWERS = build_party_followers()\n",
    "\n",
    "PARTY_OPPOSITE = {'R': 'D', 'D': 'R'}\n",
    "        \n",
    "PARTISON_FOLLOWERS = {a: PARTY_FOLLOWERS[a] - PARTY_FOLLOWERS[b]\n",
    "                      for a, b in PARTY_OPPOSITE.items()}\n",
    "\n",
    "\n",
    "def all_followers_except(screen_names, exception):\n",
    "    return reduce(lambda s, k: s | FOLLOWERS[k],\n",
    "                  (n for n in screen_names if n != exception),\n",
    "                  set())\n",
    "\n",
    "def build_singular_followers():\n",
    "    singular_followers = {}\n",
    "    for party, screen_names in SCREEN_NAMES_BY_PARTY.items():\n",
    "        for k in screen_names:\n",
    "            x = FOLLOWERS[k] - all_followers_except(screen_names, k)\n",
    "            singular_followers[k] = x - PARTISON_FOLLOWERS[PARTY_OPPOSITE[party]]\n",
    "    return singular_followers\n",
    "\n",
    "\n",
    "SINGULAR_FOLLOWERS = build_singular_followers()\n",
    "\n",
    "FOLLOWS_BOTH_SCI = FOLLOWERS[\"billnye\"] & FOLLOWERS[\"neiltyson\"]\n",
    "FOLLOWS_EITHER_SCI = FOLLOWERS[\"billnye\"] | FOLLOWERS[\"neiltyson\"]\n",
    "FOLLOWS_BLM = reduce(lambda s, k: s | FOLLOWERS[k], PROMINENT_BLM, set())\n",
    "\n",
    "SCIENTIST_COLORS = [\"#7fc97f\", \"#beaed4\"]\n",
    "POLITICAL_COLORS = [\"#377eb8\", \"#e41a1c\"]\n",
    "\n",
    "\n",
    "def compute_conditionals(followers_sets, ignoring=set()):\n",
    "    cond_p = {}\n",
    "    \n",
    "    for scientist in SCIENTISTS:\n",
    "        cond_p[scientist] = {}\n",
    "\n",
    "        for party in SCREEN_NAMES_BY_PARTY.keys():\n",
    "            h = FOLLOWERS[scientist] - ignoring\n",
    "            x = followers_sets[party] - ignoring\n",
    "            \n",
    "            cond_p[scientist][party] = p_h_given_x(h, x)\n",
    "    \n",
    "    return pd.DataFrame(cond_p)\n",
    "\n",
    "\n",
    "def ratio_of_proportions_ci(p_1, p_2, n, sample_k):\n",
    "    sample_1 = stats.binom(n, p_1).rvs(sample_k) / n\n",
    "    sample_2 = stats.binom(n, p_2).rvs(sample_k) / n\n",
    "    theta = sample_1 / sample_2\n",
    "    \n",
    "    infinities = sample_2 == 0.0\n",
    "    if infinities.sum() > 0:\n",
    "        print(\"Removing {} infinities!\".format(infinities.sum()))\n",
    "        theta = theta[~infinities]\n",
    "        \n",
    "    return np.percentile(theta, [2.5, 97.5])\n",
    "\n",
    "del df"
   ]
  },
  {
   "cell_type": "markdown",
   "metadata": {},
   "source": [
    "# Analysis"
   ]
  },
  {
   "cell_type": "markdown",
   "metadata": {},
   "source": [
    "## Scientist Priors"
   ]
  },
  {
   "cell_type": "code",
   "execution_count": null,
   "metadata": {
    "collapsed": false
   },
   "outputs": [],
   "source": [
    "NYE_TO_TYSON = len(FOLLOWERS[\"billnye\"]) / len(FOLLOWERS[\"neiltyson\"])\n",
    "print(\"Nye has {:2.2f}% the followers of Tyson\".format(NYE_TO_TYSON*100))"
   ]
  },
  {
   "cell_type": "code",
   "execution_count": null,
   "metadata": {
    "collapsed": false
   },
   "outputs": [],
   "source": [
    "len(FOLLOWERS[\"billnye\"]), len(FOLLOWERS[\"neiltyson\"])"
   ]
  },
  {
   "cell_type": "code",
   "execution_count": null,
   "metadata": {
    "collapsed": false
   },
   "outputs": [],
   "source": [
    "NYE_TO_TYSON_NONSHARED = (len(FOLLOWERS[\"billnye\"] - FOLLOWS_BOTH_SCI) / \n",
    "                          len(FOLLOWERS[\"neiltyson\"] - FOLLOWS_BOTH_SCI))\n",
    "fmt = \"Nye has {:2.2f}% the nonshared followers of Tyson\"\n",
    "print(fmt.format(NYE_TO_TYSON_NONSHARED*100))"
   ]
  },
  {
   "cell_type": "code",
   "execution_count": null,
   "metadata": {
    "collapsed": false
   },
   "outputs": [],
   "source": [
    "(len(FOLLOWERS[\"billnye\"] - FOLLOWS_BOTH_SCI), \n",
    " len(FOLLOWERS[\"neiltyson\"] - FOLLOWS_BOTH_SCI))"
   ]
  },
  {
   "cell_type": "code",
   "execution_count": null,
   "metadata": {
    "collapsed": false
   },
   "outputs": [],
   "source": [
    "len(FOLLOWERS[\"billnye\"] & FOLLOWERS[\"neiltyson\"])"
   ]
  },
  {
   "cell_type": "code",
   "execution_count": null,
   "metadata": {
    "collapsed": false
   },
   "outputs": [],
   "source": [
    "s = pd.Series({k: len(FOLLOWERS[k]) for k in SCIENTISTS})\n",
    "\n",
    "sns.set_context('poster')\n",
    "s.plot(kind='bar', color=SCIENTIST_COLORS, rot=45)\n",
    "plt.title(\"Number of Twitter Users Who Follow Nye or Tyson (or both)\");"
   ]
  },
  {
   "cell_type": "code",
   "execution_count": null,
   "metadata": {
    "collapsed": false
   },
   "outputs": [],
   "source": [
    "s = pd.Series({k: len(FOLLOWERS[k] - FOLLOWS_BOTH_SCI) for k in SCIENTISTS})\n",
    "\n",
    "sns.set_context('poster')\n",
    "s.plot(kind='bar', color=SCIENTIST_COLORS, rot=45)\n",
    "plt.title(\"Number of Twitter Users Who Follow Nye or Tyson (but not both)\");"
   ]
  },
  {
   "cell_type": "markdown",
   "metadata": {},
   "source": [
    "## Add Political Dimensions"
   ]
  },
  {
   "cell_type": "code",
   "execution_count": null,
   "metadata": {
    "collapsed": false
   },
   "outputs": [],
   "source": [
    "s = pd.Series({k: len(v) for k, v in PARTY_FOLLOWERS.items()})\n",
    "print(s)\n",
    "\n",
    "sns.set_context('poster')\n",
    "s.plot(kind='bar', color=POLITICAL_COLORS)\n",
    "plt.title(\"Number of Twitter Users Who Follow a D or R Candidate\");"
   ]
  },
  {
   "cell_type": "code",
   "execution_count": null,
   "metadata": {
    "collapsed": false
   },
   "outputs": [],
   "source": [
    "s = pd.Series({k: len(v) for k, v in PARTISON_FOLLOWERS.items()})\n",
    "print(s)\n",
    "\n",
    "sns.set_context('poster')\n",
    "s.plot(kind='bar', color=POLITICAL_COLORS)\n",
    "plt.title(\"Number of Twitter Users Who Follow a D or R Candidate (but not both)\");"
   ]
  },
  {
   "cell_type": "code",
   "execution_count": null,
   "metadata": {
    "collapsed": false
   },
   "outputs": [],
   "source": [
    "nonuniq_partison = compute_conditionals(PARTY_FOLLOWERS)\n",
    "nonuniq_partison"
   ]
  },
  {
   "cell_type": "code",
   "execution_count": null,
   "metadata": {
    "collapsed": false
   },
   "outputs": [],
   "source": [
    "nonuniq_partison_prime = compute_conditionals(PARTY_FOLLOWERS, ignoring=FOLLOWS_BOTH_SCI)\n",
    "nonuniq_partison_prime"
   ]
  },
  {
   "cell_type": "code",
   "execution_count": null,
   "metadata": {
    "collapsed": false
   },
   "outputs": [],
   "source": [
    "uniq_partison = compute_conditionals(PARTISON_FOLLOWERS)\n",
    "uniq_partison"
   ]
  },
  {
   "cell_type": "code",
   "execution_count": null,
   "metadata": {
    "collapsed": false
   },
   "outputs": [],
   "source": [
    "uniq_partison_prime = compute_conditionals(PARTISON_FOLLOWERS, ignoring=FOLLOWS_BOTH_SCI)\n",
    "uniq_partison_prime"
   ]
  },
  {
   "cell_type": "code",
   "execution_count": null,
   "metadata": {
    "collapsed": false
   },
   "outputs": [],
   "source": [
    "sns.set_context('poster')\n",
    "\n",
    "fig, axes = plt.subplots(1, 2, figsize=(10, 4), sharey=True)\n",
    "nonuniq_partison.plot(kind='bar', ax=axes[0], color=SCIENTIST_COLORS)\n",
    "uniq_partison.plot(kind='bar', ax=axes[1], color=SCIENTIST_COLORS)\n",
    "\n",
    "axes[0].set_ylabel(\"P(Follow | Party)\")\n",
    "axes[0].set_title(\"Political Users\")\n",
    "axes[1].set_title(\"Partisans Users\");"
   ]
  },
  {
   "cell_type": "code",
   "execution_count": null,
   "metadata": {
    "collapsed": false
   },
   "outputs": [],
   "source": [
    "sns.set_context('poster')\n",
    "\n",
    "uniq_partison.plot(kind='bar', color=SCIENTIST_COLORS)\n",
    "\n",
    "plt.title(\"Probability of Following Either Scientist Given Partisanship Proxy\")\n",
    "plt.ylabel(\"P(Scientist | Party)\");"
   ]
  },
  {
   "cell_type": "code",
   "execution_count": null,
   "metadata": {
    "collapsed": false
   },
   "outputs": [],
   "source": [
    "sns.set_context('poster')\n",
    "fig, axes = plt.subplots(1, 2, figsize=(10, 4), sharey=True)\n",
    "\n",
    "(nonuniq_partison['billnye'] / \n",
    " nonuniq_partison['neiltyson'] - \n",
    " NYE_TO_TYSON).plot(kind='bar', color=POLITICAL_COLORS, ax=axes[0])\n",
    "\n",
    "(uniq_partison['billnye'] / \n",
    " uniq_partison['neiltyson'] - \n",
    " NYE_TO_TYSON).plot(kind='bar', color=POLITICAL_COLORS, ax=axes[1])\n",
    "\n",
    "axes[0].set_title(\"Political Users (EITHER Sci)\")\n",
    "axes[1].set_title(\"Partisan Users (EITHER Sci)\");"
   ]
  },
  {
   "cell_type": "code",
   "execution_count": null,
   "metadata": {
    "collapsed": false
   },
   "outputs": [],
   "source": [
    "sns.set_context('poster')\n",
    "fig, axes = plt.subplots(1, 2, figsize=(10, 4), sharey=True)\n",
    "\n",
    "(nonuniq_partison_prime['billnye'] / \n",
    " nonuniq_partison_prime['neiltyson'] - \n",
    " NYE_TO_TYSON_NONSHARED).plot(kind='bar', color=POLITICAL_COLORS, ax=axes[0])\n",
    "\n",
    "(uniq_partison_prime['billnye'] / \n",
    " uniq_partison_prime['neiltyson'] - \n",
    " NYE_TO_TYSON_NONSHARED).plot(kind='bar', color=POLITICAL_COLORS, ax=axes[1])\n",
    "\n",
    "axes[0].set_title(\"Political Users (XOR SCI)\")\n",
    "axes[1].set_title(\"Partisan Users (XOR SCI)\");"
   ]
  },
  {
   "cell_type": "code",
   "execution_count": null,
   "metadata": {
    "collapsed": false
   },
   "outputs": [],
   "source": [
    "sns.set_context('poster')\n",
    "(uniq_partison_prime['billnye'] / \n",
    " uniq_partison_prime['neiltyson'] - \n",
    " NYE_TO_TYSON_NONSHARED).plot(kind='barh', \n",
    "                              color=['#377eb8', '#e41a1c'])\n",
    "\n",
    "plt.xlim([-0.2, 0.2])\n",
    "plt.title(\"Ratio of Nye-to-Tyson for Partisans Less Prior, by Party Proxy\");\n",
    "plt.ylabel(\"Party\")\n",
    "plt.xlabel(\"Ratio of Nye-to-Tyson Less Prior Ratio\");"
   ]
  },
  {
   "cell_type": "markdown",
   "metadata": {},
   "source": [
    "# Candidate Specific "
   ]
  },
  {
   "cell_type": "code",
   "execution_count": null,
   "metadata": {
    "collapsed": false
   },
   "outputs": [],
   "source": [
    "sns.set_context('poster')\n",
    "\n",
    "follows_either = {}\n",
    "for k in POLITICIANS:\n",
    "    follows_either[k] = p_h_given_x(FOLLOWS_EITHER_SCI, FOLLOWERS[k])\n",
    "pd.Series(follows_either).sort_values().plot(kind='bar', color='steelblue')\n",
    "plt.title(\"Probability of following either scientist by candidate\");"
   ]
  },
  {
   "cell_type": "code",
   "execution_count": null,
   "metadata": {
    "collapsed": false
   },
   "outputs": [],
   "source": [
    "sns.set_context('poster')\n",
    "\n",
    "follows_either = {}\n",
    "for party, screen_names in SCREEN_NAMES_BY_PARTY.items():\n",
    "    for k in screen_names:\n",
    "        follows_either[k] = p_h_given_x(FOLLOWS_EITHER_SCI, FOLLOWERS[k])\n",
    "\n",
    "pd.Series(follows_either).sort_values().plot(kind='bar', color='steelblue')\n",
    "plt.title(\"P following either scientist by candidate, less same ticket\");"
   ]
  },
  {
   "cell_type": "code",
   "execution_count": null,
   "metadata": {
    "collapsed": false
   },
   "outputs": [],
   "source": [
    "sns.set_context('poster')\n",
    "\n",
    "follows_either = {}\n",
    "for party, screen_names in SCREEN_NAMES_BY_PARTY.items():\n",
    "    for k in screen_names:\n",
    "        follows_either[k] = p_h_given_x(FOLLOWS_EITHER_SCI, SINGULAR_FOLLOWERS[k])\n",
    "\n",
    "pd.Series(follows_either).sort_values().plot(kind='bar', color='steelblue')\n",
    "plt.title(\"P following either scientist by candidate, less same ticket\");"
   ]
  },
  {
   "cell_type": "markdown",
   "metadata": {},
   "source": [
    "### Confidence Bounds\n",
    "\n",
    "I don't want to talk about confidence intervals on a medium post. But, I want to make sure things won't reorder much, given statistical bounds. Keeping the minimum number of followers above 10,000 does this cheaply, and keeps things honest."
   ]
  },
  {
   "cell_type": "code",
   "execution_count": null,
   "metadata": {
    "collapsed": false
   },
   "outputs": [],
   "source": [
    "0.01 - stats.binom(10000, 0.01).ppf(0.01)/10000 "
   ]
  },
  {
   "cell_type": "code",
   "execution_count": null,
   "metadata": {
    "collapsed": false
   },
   "outputs": [],
   "source": [
    "sns.set_context('poster')\n",
    "\n",
    "follows_either = {}\n",
    "for party, screen_names in SCREEN_NAMES_BY_PARTY.items():\n",
    "    for k in screen_names:\n",
    "        follows_either[k] = p_h_given_x(FOLLOWS_BOTH_SCI, SINGULAR_FOLLOWERS[k])\n",
    "\n",
    "pd.Series(follows_either).sort_values().plot(kind='bar', color='steelblue');\n",
    "plt.title(\"P following both scientists by candidate\");"
   ]
  },
  {
   "cell_type": "markdown",
   "metadata": {},
   "source": [
    "# Gaps"
   ]
  },
  {
   "cell_type": "code",
   "execution_count": null,
   "metadata": {
    "collapsed": false
   },
   "outputs": [],
   "source": [
    "def build_gap_df():\n",
    "    rows = []\n",
    "    \n",
    "    for party, screen_names in SCREEN_NAMES_BY_PARTY.items():\n",
    "        for k in screen_names:\n",
    "            x = SINGULAR_FOLLOWERS[k]\n",
    "            nye = FOLLOWERS['billnye'] - FOLLOWS_BOTH_SCI\n",
    "            tyson = FOLLOWERS['neiltyson'] - FOLLOWS_BOTH_SCI\n",
    "\n",
    "            p_1 = p_h_given_x(nye, x)\n",
    "            p_2 = p_h_given_x(tyson, x)\n",
    "            theta = p_1 / p_2\n",
    "            ci = ratio_of_proportions_ci(p_1, p_2, len(x), 100000)\n",
    "            \n",
    "            rows.append({'Candidate': k, \n",
    "                         'N': len(x),\n",
    "                         'Theta': theta - NYE_TO_TYSON_NONSHARED,\n",
    "                         'Lower_Bound': ci[0] - NYE_TO_TYSON_NONSHARED,\n",
    "                         'Upper_Bound': ci[1] - NYE_TO_TYSON_NONSHARED,\n",
    "                         'Party': party,\n",
    "                         'Is_Leader': k in LEADERS})\n",
    "            \n",
    "    df = pd.DataFrame(rows).set_index('Candidate')\n",
    "    df = df.reindex(columns = ['N', \n",
    "                               'Lower_Bound', 'Theta', 'Upper_Bound', \n",
    "                               'Party', 'Is_Leader'])\n",
    "    return df\n",
    "\n",
    "gap_df = build_gap_df()\n",
    "gap_df"
   ]
  },
  {
   "cell_type": "code",
   "execution_count": null,
   "metadata": {
    "collapsed": false
   },
   "outputs": [],
   "source": [
    "fig, ax = plt.subplots()\n",
    "sns.set_context('poster')\n",
    "\n",
    "s = gap_df['Theta'][gap_df['Is_Leader']].sort_values()\n",
    "s.plot(kind='barh', color='steelblue', ax=ax)\n",
    "plt.title(\"Ratio of Nye-to-Tyson Less Prior by Leading Candidate\")\n",
    "plt.ylabel('')\n",
    "plt.xlim([-0.15, 0.15]);"
   ]
  },
  {
   "cell_type": "code",
   "execution_count": null,
   "metadata": {
    "collapsed": false
   },
   "outputs": [],
   "source": [
    "sns.set_context('poster')\n",
    "\n",
    "s = gap_df['Theta'].sort_values()\n",
    "\n",
    "raw_err = gap_df[['Lower_Bound', 'Upper_Bound']].subtract(gap_df['Theta'], axis='rows')\n",
    "err = raw_err.reindex(index=s.index).values.T\n",
    "\n",
    "s.plot(kind='barh', color='steelblue', xerr=err)\n",
    "plt.title(\"Ratio of Nye-to-Tyson Less Prior Ratio by Candidate\")\n",
    "plt.ylabel('')\n",
    "plt.xlim([-0.6, 0.6]);"
   ]
  },
  {
   "cell_type": "markdown",
   "metadata": {},
   "source": [
    "The above graph includes all 2016 candidates for POTUS. Two things are unexpected points. 1) Followers of Ben Carson -- the GOP's only black candidate -- follow Nye more than Bill to the same degree as Donald Trump. 2) Carly Fiorina's supporters show the strongest favoritism of Tyson to Nye. The confidence intervals around Carson and Fiorina are wider than for the leading candidates, but they are still substantively significant.\n",
    "\n",
    "In the case of Carson, homophily as a driver suggests he would have a lot of black followers who then prefer Tyson to Nye. But, this doesn't happen. My guess is that Carson's Twitter Followers are roughly as white as Trump's. This doesn't stretch credulity. Carson's white appeal is well-expressed by Rupert Murdoch: \n",
    "\n",
    "(If you don't see the following Tweet, your IPython notebook viewer stripped it for safety.) "
   ]
  },
  {
   "cell_type": "code",
   "execution_count": null,
   "metadata": {
    "collapsed": false
   },
   "outputs": [],
   "source": [
    "HTML(filename='./murdoch_quote.html')"
   ]
  },
  {
   "cell_type": "markdown",
   "metadata": {},
   "source": [
    "As [David Lubin said](http://www.usnews.com/news/the-report/articles/2015/10/02/ben-carsons-different-take-on-race), \"he's a Republican. He speaks at conservative forums, which are mainly forums for white people. Certainly black Twitter isn't rushing to gush about Ben Carson.\" \n",
    "\n",
    "To empirically test the plausibility of this hypothesis, I gathered the followers of prominent [Black Lives Matter](http://blacklivesmatter.com/) supporters on Twitter. The following shows the candidate-specific follow rates for BLM leaders."
   ]
  },
  {
   "cell_type": "code",
   "execution_count": null,
   "metadata": {
    "collapsed": false
   },
   "outputs": [],
   "source": [
    "def build_follows_blm(followers_d):\n",
    "    follows_blm = []\n",
    "    for k in POLITICIANS:\n",
    "        n = len(followers_d[k])\n",
    "        p = p_h_given_x(FOLLOWS_BLM, followers_d[k])\n",
    "        lb, ub = stats.binom(n, p).ppf([0.025, 0.975]) / n\n",
    "        row = {'Candidate': k, \n",
    "               'P': p, \n",
    "               'P_Lower_Raw': lb - p, # \"Raw\" for Pandas\n",
    "               'P_Upper_Raw': ub - p} # \"Raw\" for Pandas\n",
    "        follows_blm.append(row)\n",
    "    df = pd.DataFrame(follows_blm).set_index('Candidate')\n",
    "    return df.sort_values(by='P')"
   ]
  },
  {
   "cell_type": "code",
   "execution_count": null,
   "metadata": {
    "collapsed": false
   },
   "outputs": [],
   "source": [
    "follows_blm = build_follows_blm(FOLLOWERS)\n",
    "\n",
    "sns.set_context('poster')\n",
    "follows_blm['P'].plot(kind='bar', \n",
    "                      yerr=follows_blm[['P_Lower_Raw', 'P_Upper_Raw']].values.T,\n",
    "                      color='#FFF300',\n",
    "                      edgecolor='black',\n",
    "                      lw=2)\n",
    "plt.title(\"Probability of Following BLM Given Following Candidate\");"
   ]
  },
  {
   "cell_type": "markdown",
   "metadata": {},
   "source": [
    "And, this graph shows the follow rates for a followers of only the specific candidate: "
   ]
  },
  {
   "cell_type": "code",
   "execution_count": null,
   "metadata": {
    "collapsed": false
   },
   "outputs": [],
   "source": [
    "follows_blm = build_follows_blm(SINGULAR_FOLLOWERS)\n",
    "\n",
    "sns.set_context('poster')\n",
    "follows_blm['P'].plot(kind='bar', \n",
    "                      yerr=follows_blm[['P_Lower_Raw', 'P_Upper_Raw']].values.T,\n",
    "                      color='#FFF300',\n",
    "                      edgecolor='black',\n",
    "                      lw=2)\n",
    "plt.title(\"Probability of Following BLM Given Following Candidate\");"
   ]
  },
  {
   "cell_type": "markdown",
   "metadata": {},
   "source": [
    "Both show Carson doesn't have much in the way of black support. He does have more than Trump, but -- if he had much black support on twitter -- I assume this rate would be much, much higher.\n",
    "\n",
    "As for Fiorina, I'm not sure what's going on. She has the lowest set of BLM supporter's of the group. Therefore, I would expect her supporters to favor Nye. I have an idea, unsupported here, by any quantitive analysis: **gender**. \n",
    "\n",
    "If you are a woman interested in science on Twitter, you probably are aware of the gender biases against women scientists. Perhaps, cognizant of this bias, you are particularly sensitive to acting correctively. Assuming this were true -- and, assuming Fiorina and Hilary have higher ratios of women followers -- both, would show favoritism towards Tyson. They do. \n",
    "\n",
    "But, again, this bit is (currently) unsubstantiated by the collected data. Topics for another notebook."
   ]
  },
  {
   "cell_type": "markdown",
   "metadata": {},
   "source": [
    "∎"
   ]
  }
 ],
 "metadata": {
  "kernelspec": {
   "display_name": "Python 2",
   "language": "python",
   "name": "python2"
  },
  "language_info": {
   "codemirror_mode": {
    "name": "ipython",
    "version": 2
   },
   "file_extension": ".py",
   "mimetype": "text/x-python",
   "name": "python",
   "nbconvert_exporter": "python",
   "pygments_lexer": "ipython2",
   "version": "2.7.11"
  }
 },
 "nbformat": 4,
 "nbformat_minor": 0
}
